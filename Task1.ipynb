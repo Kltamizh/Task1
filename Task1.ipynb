{
 "cells": [
  {
   "cell_type": "markdown",
   "id": "f4084169",
   "metadata": {},
   "source": [
    "# TAMIZHARASAN K\n",
    "\n",
    "A Project for an internship at \"The Sparks Foundation\"\n",
    "\n",
    "Task 1 - Prediction Using Supervised ML\n",
    "\n",
    "DOMAIN - Data Science and Business Analytics\n",
    "\n",
    "BATCH - JUNE2023"
   ]
  },
  {
   "cell_type": "markdown",
   "id": "6394c61a",
   "metadata": {},
   "source": [
    "# Prediction using Supervised Machine Learning"
   ]
  },
  {
   "cell_type": "markdown",
   "id": "a923f65f",
   "metadata": {},
   "source": [
    "### Importing necessary modules"
   ]
  },
  {
   "cell_type": "code",
   "execution_count": 1,
   "id": "831b3d1d",
   "metadata": {},
   "outputs": [],
   "source": [
    "import pandas as pd\n",
    "import numpy as np\n",
    "import matplotlib.pyplot as plt\n",
    "from sklearn.model_selection import train_test_split"
   ]
  },
  {
   "cell_type": "markdown",
   "id": "9c388b3c",
   "metadata": {},
   "source": [
    "### Loading and displaying the dataset"
   ]
  },
  {
   "cell_type": "code",
   "execution_count": 2,
   "id": "fae4d83c",
   "metadata": {},
   "outputs": [
    {
     "data": {
      "text/html": [
       "<div>\n",
       "<style scoped>\n",
       "    .dataframe tbody tr th:only-of-type {\n",
       "        vertical-align: middle;\n",
       "    }\n",
       "\n",
       "    .dataframe tbody tr th {\n",
       "        vertical-align: top;\n",
       "    }\n",
       "\n",
       "    .dataframe thead th {\n",
       "        text-align: right;\n",
       "    }\n",
       "</style>\n",
       "<table border=\"1\" class=\"dataframe\">\n",
       "  <thead>\n",
       "    <tr style=\"text-align: right;\">\n",
       "      <th></th>\n",
       "      <th>Hours</th>\n",
       "      <th>Scores</th>\n",
       "    </tr>\n",
       "  </thead>\n",
       "  <tbody>\n",
       "    <tr>\n",
       "      <th>0</th>\n",
       "      <td>2.5</td>\n",
       "      <td>21</td>\n",
       "    </tr>\n",
       "    <tr>\n",
       "      <th>1</th>\n",
       "      <td>5.1</td>\n",
       "      <td>47</td>\n",
       "    </tr>\n",
       "    <tr>\n",
       "      <th>2</th>\n",
       "      <td>3.2</td>\n",
       "      <td>27</td>\n",
       "    </tr>\n",
       "    <tr>\n",
       "      <th>3</th>\n",
       "      <td>8.5</td>\n",
       "      <td>75</td>\n",
       "    </tr>\n",
       "    <tr>\n",
       "      <th>4</th>\n",
       "      <td>3.5</td>\n",
       "      <td>30</td>\n",
       "    </tr>\n",
       "  </tbody>\n",
       "</table>\n",
       "</div>"
      ],
      "text/plain": [
       "   Hours  Scores\n",
       "0    2.5      21\n",
       "1    5.1      47\n",
       "2    3.2      27\n",
       "3    8.5      75\n",
       "4    3.5      30"
      ]
     },
     "execution_count": 2,
     "metadata": {},
     "output_type": "execute_result"
    }
   ],
   "source": [
    "url = \"http://bit.ly/w-data\"\n",
    "data = pd.read_csv(url)\n",
    "data.head()"
   ]
  },
  {
   "cell_type": "markdown",
   "id": "b4b22c42",
   "metadata": {},
   "source": [
    "### Plotting the distribution of scores"
   ]
  },
  {
   "cell_type": "code",
   "execution_count": 3,
   "id": "7ddc3fb5",
   "metadata": {},
   "outputs": [
    {
     "data": {
      "image/png": "[encoded data removed]",
      "text/plain": [
       "<Figure size 640x480 with 1 Axes>"
      ]
     },
     "metadata": {},
     "output_type": "display_data"
    }
   ],
   "source": [
    "data.plot(x='Hours', y='Scores', style='o',c = 'red')  \n",
    "plt.title('Hours vs Scores')  \n",
    "plt.xlabel('Hours Studied')  \n",
    "plt.ylabel('Score')  \n",
    "plt.show()"
   ]
  },
  {
   "cell_type": "markdown",
   "id": "49ac52dc",
   "metadata": {},
   "source": [
    "### Implementing linear regression from scratch"
   ]
  },
  {
   "cell_type": "code",
   "execution_count": 4,
   "id": "b6c1f0f0",
   "metadata": {},
   "outputs": [],
   "source": [
    "class LinearRegression:\n",
    "    def fit(self,x,y):\n",
    "        x_mean , y_mean  = np.mean(x),np.mean(y)\n",
    "        x_mean_diff, y_mean_diff = x-x_mean , y - y_mean\n",
    "        self.b1 = (x_mean_diff @ y_mean_diff)/(x_mean_diff @ x_mean_diff)\n",
    "        self.b0 = y_mean - (self.b1*x_mean)\n",
    "        return self\n",
    "    \n",
    "    def predict(self,x):\n",
    "        return self.b0 + x*self.b1\n",
    "    \n",
    "    def evaluate(self,x,y):\n",
    "        y_pred = self.predict(x)\n",
    "        y_diff = y-y_pred\n",
    "        rmse = np.sqrt(y_diff @ y_diff/x.shape[0])\n",
    "        print(\"RMSE:\",rmse)"
   ]
  },
  {
   "cell_type": "markdown",
   "id": "9b1cd721",
   "metadata": {},
   "source": [
    "### Regression plot function"
   ]
  },
  {
   "cell_type": "code",
   "execution_count": 5,
   "id": "d1137919",
   "metadata": {},
   "outputs": [],
   "source": [
    "def plot(x,y,model,title = \"\"):\n",
    "    plt.figure(figsize = (6,5))\n",
    "    plt.title(title)\n",
    "    plt.xlim(1,10)\n",
    "    plt.ylim(20,100)\n",
    "    plt.xlabel('Hours')\n",
    "    plt.ylabel('Scores')\n",
    "    \n",
    "    x_line = np.array([np.min(x) - 100,np.max(x) + 100]).reshape(-1,1)\n",
    "    y_line = model.predict(x_line)\n",
    "    \n",
    "    plt.scatter(x,y,c = 'red', label = 'Original data points')\n",
    "    plt.plot(x_line,y_line,linewidth = 3,label = 'Regression line')\n",
    "    plt.legend()"
   ]
  },
  {
   "cell_type": "markdown",
   "id": "90151ca0",
   "metadata": {},
   "source": [
    "### Training the model and fitting the best fit line"
   ]
  },
  {
   "cell_type": "code",
   "execution_count": 6,
   "id": "b6f44f8d",
   "metadata": {},
   "outputs": [
    {
     "data": {
      "image/png": "[encoded data removed]",
      "text/plain": [
       "<Figure size 600x500 with 1 Axes>"
      ]
     },
     "metadata": {},
     "output_type": "display_data"
    }
   ],
   "source": [
    "x = data['Hours'].values\n",
    "y = data['Scores'].values\n",
    "x_train,x_test,y_train,y_test = train_test_split(x,y,test_size=0.2)\n",
    "model = LinearRegression()\n",
    "model.fit(x_train,y_train)\n",
    "plot(x,y,model,title = 'Trained Regression model')"
   ]
  },
  {
   "cell_type": "markdown",
   "id": "cdddef35",
   "metadata": {},
   "source": [
    "### Testing the model"
   ]
  },
  {
   "cell_type": "code",
   "execution_count": 7,
   "id": "f0a2c60c",
   "metadata": {},
   "outputs": [
    {
     "data": {
      "text/html": [
       "<div>\n",
       "<style scoped>\n",
       "    .dataframe tbody tr th:only-of-type {\n",
       "        vertical-align: middle;\n",
       "    }\n",
       "\n",
       "    .dataframe tbody tr th {\n",
       "        vertical-align: top;\n",
       "    }\n",
       "\n",
       "    .dataframe thead th {\n",
       "        text-align: right;\n",
       "    }\n",
       "</style>\n",
       "<table border=\"1\" class=\"dataframe\">\n",
       "  <thead>\n",
       "    <tr style=\"text-align: right;\">\n",
       "      <th></th>\n",
       "      <th>Actual</th>\n",
       "      <th>Predicted</th>\n",
       "    </tr>\n",
       "  </thead>\n",
       "  <tbody>\n",
       "    <tr>\n",
       "      <th>0</th>\n",
       "      <td>25</td>\n",
       "      <td>29.826570</td>\n",
       "    </tr>\n",
       "    <tr>\n",
       "      <th>1</th>\n",
       "      <td>85</td>\n",
       "      <td>77.426237</td>\n",
       "    </tr>\n",
       "    <tr>\n",
       "      <th>2</th>\n",
       "      <td>27</td>\n",
       "      <td>34.586537</td>\n",
       "    </tr>\n",
       "    <tr>\n",
       "      <th>3</th>\n",
       "      <td>47</td>\n",
       "      <td>52.674410</td>\n",
       "    </tr>\n",
       "    <tr>\n",
       "      <th>4</th>\n",
       "      <td>20</td>\n",
       "      <td>18.402650</td>\n",
       "    </tr>\n",
       "  </tbody>\n",
       "</table>\n",
       "</div>"
      ],
      "text/plain": [
       "   Actual  Predicted\n",
       "0      25  29.826570\n",
       "1      85  77.426237\n",
       "2      27  34.586537\n",
       "3      47  52.674410\n",
       "4      20  18.402650"
      ]
     },
     "execution_count": 7,
     "metadata": {},
     "output_type": "execute_result"
    }
   ],
   "source": [
    "y_pred = model.predict(x_test)\n",
    "testing = pd.DataFrame({\"Actual\":y_test ,\"Predicted\":y_pred})\n",
    "testing"
   ]
  },
  {
   "cell_type": "markdown",
   "id": "50c5f517",
   "metadata": {},
   "source": [
    "### Testing the model with study hour '9.25' per day"
   ]
  },
  {
   "cell_type": "code",
   "execution_count": 8,
   "id": "48e44c3f",
   "metadata": {},
   "outputs": [
    {
     "name": "stdout",
     "output_type": "stream",
     "text": [
      "Spending 9.25 hours per day will make a student able to score 92.18% marks.\n"
     ]
    }
   ],
   "source": [
    "hours = 9.25\n",
    "test = model.predict(hours)\n",
    "print(f\"Spending 9.25 hours per day will make a student able to score {test:.2f}% marks.\")"
   ]
  },
  {
   "cell_type": "markdown",
   "id": "3e87f00d",
   "metadata": {},
   "source": [
    "# Evaluating the model using \"Root Mean Squared Error\""
   ]
  },
  {
   "cell_type": "code",
   "execution_count": 9,
   "id": "86d84d8a",
   "metadata": {},
   "outputs": [
    {
     "name": "stdout",
     "output_type": "stream",
     "text": [
      "RMSE: 5.423161113037562\n"
     ]
    }
   ],
   "source": [
    "Evaluate = model.evaluate(x,y)"
   ]
  }
 ],
 "metadata": {
  "kernelspec": {
   "display_name": "Python 3 (ipykernel)",
   "language": "python",
   "name": "python3"
  },
  "language_info": {
   "codemirror_mode": {
    "name": "ipython",
    "version": 3
   },
   "file_extension": ".py",
   "mimetype": "text/x-python",
   "name": "python",
   "nbconvert_exporter": "python",
   "pygments_lexer": "ipython3",
   "version": "3.10.6"
  }
 },
 "nbformat": 4,
 "nbformat_minor": 5
}
